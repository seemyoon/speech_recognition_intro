{
 "cells": [
  {
   "metadata": {},
   "cell_type": "markdown",
   "source": [
    "Homework Assignment\n",
    "Hey!\n",
    "\n",
    "Have you noticed something crucial missing in the transcription we created with Whisper AI? At first glance, the transcription seems much more accurate compared to the one from the SpeechRecognition library and Google Web Speech API. However, if you look closer, there’s a key omission.\n",
    "\n",
    "Not only was the name Ivan transcribed incorrectly, but an important word is also missing in one of the sentences. Check the notebook again:\n",
    "\n",
    "“I’m a sound engineer turned a scientist, curious about machine learning and artificial intelligence.”\n",
    "\n",
    "Did you spot it?\n",
    "\n",
    "The word “data” is missing from the phrase “data scientist,” leaving it as just “a scientist.”\n",
    "\n",
    "But don’t think Whisper isn’t good enough! Remember, we used the “base” version of the model, which balances performance with memory and resource efficiency. Now it’s your turn to dig deeper into Whisper AI and make the transcription even more accurate.\n",
    "\n",
    "Here’s your task:\n",
    "\n",
    "Deploy the “medium” version of the Whisper model and see if the transcription improves. Will it correctly transcribe my name? What about the missing word “data” in “data scientist”?\n",
    "\n",
    "Become a speech recognition expert by making a small modification to the code we used in the lesson. Then, evaluate your transcript using WER (Word Error Rate) and CER (Character Error Rate) to see if it truly performs better.\n",
    "\n",
    "Feel free to experiment with the even more advanced versions of the model for your own transcripts. And if you discover something interesting, share it with the Community!\n",
    "\n",
    "Good luck!"
   ],
   "id": "9cdc7f6c94d18c10"
  },
  {
   "cell_type": "code",
   "id": "initial_id",
   "metadata": {
    "collapsed": true,
    "ExecuteTime": {
     "end_time": "2025-10-07T14:24:12.016224Z",
     "start_time": "2025-10-07T14:24:11.967329Z"
    }
   },
   "source": [
    "import whisper\n",
    "\n",
    "from jiwer import cer, wer"
   ],
   "outputs": [],
   "execution_count": 7
  },
  {
   "metadata": {
    "ExecuteTime": {
     "end_time": "2025-10-07T14:19:26.097400Z",
     "start_time": "2025-10-07T14:19:26.092010Z"
    }
   },
   "cell_type": "code",
   "source": "file_path = 'speech_01.wav'",
   "id": "2aded679de8d3401",
   "outputs": [],
   "execution_count": 2
  },
  {
   "metadata": {
    "ExecuteTime": {
     "end_time": "2025-10-07T14:22:43.395401Z",
     "start_time": "2025-10-07T14:20:10.685200Z"
    }
   },
   "cell_type": "code",
   "source": "model = whisper.load_model('medium')",
   "id": "efe808d2bb97d2a7",
   "outputs": [
    {
     "name": "stderr",
     "output_type": "stream",
     "text": [
      "100%|█████████████████████████████████████| 1.42G/1.42G [02:23<00:00, 10.7MiB/s]\n"
     ]
    }
   ],
   "execution_count": 3
  },
  {
   "metadata": {
    "ExecuteTime": {
     "end_time": "2025-10-07T14:23:23.567155Z",
     "start_time": "2025-10-07T14:23:04.036012Z"
    }
   },
   "cell_type": "code",
   "source": "result = model.transcribe(file_path)",
   "id": "4ba24840f13b8164",
   "outputs": [
    {
     "name": "stderr",
     "output_type": "stream",
     "text": [
      "/home/semyon/PycharmProjects/speech_recognition_intro/.venv/lib/python3.12/site-packages/whisper/transcribe.py:132: UserWarning: FP16 is not supported on CPU; using FP32 instead\n",
      "  warnings.warn(\"FP16 is not supported on CPU; using FP32 instead\")\n"
     ]
    }
   ],
   "execution_count": 4
  },
  {
   "metadata": {
    "ExecuteTime": {
     "end_time": "2025-10-07T14:23:23.593119Z",
     "start_time": "2025-10-07T14:23:23.581490Z"
    }
   },
   "cell_type": "code",
   "source": [
    "transcribed_text_whisper = result['text']\n",
    "transcribed_text_whisper"
   ],
   "id": "296d85b846caa1d8",
   "outputs": [
    {
     "data": {
      "text/plain": [
       "\" My name is Ivan and I am excited to have you as part of our learning community. Before we get started, I'd like to tell you a little bit about myself. I'm a sound engineer turned data scientist, curious about machine learning and artificial intelligence. My professional background is primarily in media production with a focus on audio, IT and communications.\""
      ]
     },
     "execution_count": 5,
     "metadata": {},
     "output_type": "execute_result"
    }
   ],
   "execution_count": 5
  },
  {
   "metadata": {
    "ExecuteTime": {
     "end_time": "2025-10-07T14:24:17.786117Z",
     "start_time": "2025-10-07T14:24:17.781805Z"
    }
   },
   "cell_type": "code",
   "source": [
    "ground_truth = \"\"\"My name is Ivan and I am excited to have you as part of our learning community!\n",
    "Before we get started, I'd like to tell you a little bit about myself. I'm a sound engineer turned data scientist,\n",
    "curious about machine learning and Artificial Intelligence. My professional background is primarily in media production,\n",
    "with a focus on audio, IT, and communications\"\"\""
   ],
   "id": "fbdc7bacf49c538a",
   "outputs": [],
   "execution_count": 9
  },
  {
   "metadata": {
    "ExecuteTime": {
     "end_time": "2025-10-07T14:24:44.617591Z",
     "start_time": "2025-10-07T14:24:44.604708Z"
    }
   },
   "cell_type": "code",
   "source": [
    "calculated_wer = wer(ground_truth, transcribed_text_whisper)\n",
    "calculated_cer = cer(ground_truth, transcribed_text_whisper)\n",
    "print(f'wer: ', calculated_wer)\n",
    "print(f'cer: ', calculated_cer)"
   ],
   "id": "3767de55edc726ab",
   "outputs": [
    {
     "name": "stdout",
     "output_type": "stream",
     "text": [
      "wer:  0.1724137931034483\n",
      "cer:  0.024930747922437674\n"
     ]
    }
   ],
   "execution_count": 10
  }
 ],
 "metadata": {
  "kernelspec": {
   "display_name": "Python 3",
   "language": "python",
   "name": "python3"
  },
  "language_info": {
   "codemirror_mode": {
    "name": "ipython",
    "version": 2
   },
   "file_extension": ".py",
   "mimetype": "text/x-python",
   "name": "python",
   "nbconvert_exporter": "python",
   "pygments_lexer": "ipython2",
   "version": "2.7.6"
  }
 },
 "nbformat": 4,
 "nbformat_minor": 5
}
